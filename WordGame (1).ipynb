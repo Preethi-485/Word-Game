{
  "nbformat": 4,
  "nbformat_minor": 0,
  "metadata": {
    "colab": {
      "name": "WordGame.ipynb",
      "provenance": []
    },
    "kernelspec": {
      "name": "python3",
      "display_name": "Python 3"
    },
    "language_info": {
      "name": "python"
    }
  },
  "cells": [
    {
      "cell_type": "code",
      "execution_count": null,
      "metadata": {
        "id": "CavqrnlTSmsc"
      },
      "outputs": [],
      "source": [
        "import random"
      ]
    },
    {
      "cell_type": "code",
      "source": [
        "words = ['google','amazon','facebook','microsoft','netflix','apple','oracle']\n",
        "guessed_word=random.choice(words)\n",
        "guessed_word\n"
      ],
      "metadata": {
        "id": "k-Bgr5ezSpM6"
      },
      "execution_count": null,
      "outputs": []
    },
    {
      "cell_type": "code",
      "source": [
        "hint=guessed_word[0]+guessed_word[-1]\n",
        "hint"
      ],
      "metadata": {
        "id": "nyCLFH2uSylP"
      },
      "execution_count": null,
      "outputs": []
    },
    {
      "cell_type": "code",
      "source": [
        "\n",
        "store_g_l=[]\n",
        "try_p=6\n",
        "a=input(\"Enter your good name : \")\n",
        "print(\"Welcome to the Game World\",a,\"!!\")\n",
        "print()\n",
        "print(\"Guess the names of the Top Tech Companies of the world!!\")\n",
        "print(\"You have 6 attempts to guess the right word!!\")"
      ],
      "metadata": {
        "id": "J4lld4j9Srin"
      },
      "execution_count": null,
      "outputs": []
    },
    {
      "cell_type": "code",
      "source": [
        "for guess in range(try_p):\n",
        "  while True:\n",
        "    letter=input(\"Guess the letter!! \")\n",
        "\n",
        "    if len(letter)==1:\n",
        "      break\n",
        "    else:\n",
        "      print(\"Oops!! Guess a letter \")\n",
        "  if letter in guessed_word:\n",
        "    print(\"Yes!\")\n",
        "    store_g_l.append(letter)\n",
        "  else:\n",
        "    print(\"No!!\")\n",
        "  \n",
        "  if(guess==3):\n",
        "    print()\n",
        "    clue_request=input(\"Would you like to have a clue?\")\n",
        "    if clue_request.lower().startswith('y'):\n",
        "      print()\n",
        "      print(\"CLUE : The first and last letters are : \",hint)\n",
        "    else:\n",
        "      print(\"You are very confident!! Go ahead \")\n",
        "\n",
        "print()\n",
        "print(\"Now let's see what you have guessed!!\")\n",
        "print(\"You have guessed : \",len(store_g_l),\"correctly!!\")\n",
        "print(\"The letters are : \",store_g_l)\n",
        "\n",
        "word_guess=input(\"Guess the whole word : \")\n",
        "if word_guess.lower()==guessed_word:\n",
        "  print(\"Congratulations !! You are correct !!\")\n",
        "else:\n",
        "  print(\"Sorry! The answer is \",guessed_word)\n",
        "\n",
        "print(\"Thank you!!\")\n",
        "print()\n",
        "\n",
        "print(\"Press Enter to leave the program!\")"
      ],
      "metadata": {
        "id": "lLoedBXMS4AI"
      },
      "execution_count": null,
      "outputs": []
    }
  ]
}